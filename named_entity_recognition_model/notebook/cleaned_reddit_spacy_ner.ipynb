{
  "nbformat": 4,
  "nbformat_minor": 0,
  "metadata": {
    "accelerator": "GPU",
    "colab": {
      "name": "cleaned_reddit_spacy_ner.ipynb",
      "provenance": [],
      "collapsed_sections": [
        "Aox8lnj2k5k_"
      ]
    },
    "kernelspec": {
      "display_name": "Python 3",
      "language": "python",
      "name": "python3"
    }
  },
  "cells": [
    {
      "cell_type": "markdown",
      "metadata": {
        "id": "0zTgDnJZJPqH"
      },
      "source": [
        "###Import Libraries###"
      ]
    },
    {
      "cell_type": "code",
      "metadata": {
        "id": "rQf7NX6eo-Ae"
      },
      "source": [
        "import spacy \n",
        "from spacy import displacy\n",
        "import pandas as pd\n",
        "\n",
        "spacy.__version__\n",
        "\n",
        "import numpy\n",
        "numpy.random.seed(0)"
      ],
      "execution_count": 5,
      "outputs": []
    },
    {
      "cell_type": "markdown",
      "metadata": {
        "id": "VDAY1ayuJTnb"
      },
      "source": [
        "###Download and Load Spacy Language Model###"
      ]
    },
    {
      "cell_type": "code",
      "metadata": {
        "colab": {
          "base_uri": "https://localhost:8080/"
        },
        "id": "UaJC5o7XpHOs",
        "outputId": "9ca82882-d71b-41c5-fdc7-60576964f803"
      },
      "source": [
        "#Download spacy small model\n",
        "!python -m spacy download en_core_web_sm\n",
        "# Load SpaCy model\n",
        "nlp = spacy.load(\"en_core_web_sm\")"
      ],
      "execution_count": 6,
      "outputs": [
        {
          "output_type": "stream",
          "text": [
            "Requirement already satisfied: en_core_web_sm==2.2.5 from https://github.com/explosion/spacy-models/releases/download/en_core_web_sm-2.2.5/en_core_web_sm-2.2.5.tar.gz#egg=en_core_web_sm==2.2.5 in /usr/local/lib/python3.7/dist-packages (2.2.5)\n",
            "Requirement already satisfied: spacy>=2.2.2 in /usr/local/lib/python3.7/dist-packages (from en_core_web_sm==2.2.5) (2.2.4)\n",
            "Requirement already satisfied: preshed<3.1.0,>=3.0.2 in /usr/local/lib/python3.7/dist-packages (from spacy>=2.2.2->en_core_web_sm==2.2.5) (3.0.5)\n",
            "Requirement already satisfied: blis<0.5.0,>=0.4.0 in /usr/local/lib/python3.7/dist-packages (from spacy>=2.2.2->en_core_web_sm==2.2.5) (0.4.1)\n",
            "Requirement already satisfied: thinc==7.4.0 in /usr/local/lib/python3.7/dist-packages (from spacy>=2.2.2->en_core_web_sm==2.2.5) (7.4.0)\n",
            "Requirement already satisfied: setuptools in /usr/local/lib/python3.7/dist-packages (from spacy>=2.2.2->en_core_web_sm==2.2.5) (56.1.0)\n",
            "Requirement already satisfied: cymem<2.1.0,>=2.0.2 in /usr/local/lib/python3.7/dist-packages (from spacy>=2.2.2->en_core_web_sm==2.2.5) (2.0.5)\n",
            "Requirement already satisfied: tqdm<5.0.0,>=4.38.0 in /usr/local/lib/python3.7/dist-packages (from spacy>=2.2.2->en_core_web_sm==2.2.5) (4.41.1)\n",
            "Requirement already satisfied: murmurhash<1.1.0,>=0.28.0 in /usr/local/lib/python3.7/dist-packages (from spacy>=2.2.2->en_core_web_sm==2.2.5) (1.0.5)\n",
            "Requirement already satisfied: plac<1.2.0,>=0.9.6 in /usr/local/lib/python3.7/dist-packages (from spacy>=2.2.2->en_core_web_sm==2.2.5) (1.1.3)\n",
            "Requirement already satisfied: requests<3.0.0,>=2.13.0 in /usr/local/lib/python3.7/dist-packages (from spacy>=2.2.2->en_core_web_sm==2.2.5) (2.23.0)\n",
            "Requirement already satisfied: wasabi<1.1.0,>=0.4.0 in /usr/local/lib/python3.7/dist-packages (from spacy>=2.2.2->en_core_web_sm==2.2.5) (0.8.2)\n",
            "Requirement already satisfied: catalogue<1.1.0,>=0.0.7 in /usr/local/lib/python3.7/dist-packages (from spacy>=2.2.2->en_core_web_sm==2.2.5) (1.0.0)\n",
            "Requirement already satisfied: numpy>=1.15.0 in /usr/local/lib/python3.7/dist-packages (from spacy>=2.2.2->en_core_web_sm==2.2.5) (1.19.5)\n",
            "Requirement already satisfied: srsly<1.1.0,>=1.0.2 in /usr/local/lib/python3.7/dist-packages (from spacy>=2.2.2->en_core_web_sm==2.2.5) (1.0.5)\n",
            "Requirement already satisfied: idna<3,>=2.5 in /usr/local/lib/python3.7/dist-packages (from requests<3.0.0,>=2.13.0->spacy>=2.2.2->en_core_web_sm==2.2.5) (2.10)\n",
            "Requirement already satisfied: chardet<4,>=3.0.2 in /usr/local/lib/python3.7/dist-packages (from requests<3.0.0,>=2.13.0->spacy>=2.2.2->en_core_web_sm==2.2.5) (3.0.4)\n",
            "Requirement already satisfied: certifi>=2017.4.17 in /usr/local/lib/python3.7/dist-packages (from requests<3.0.0,>=2.13.0->spacy>=2.2.2->en_core_web_sm==2.2.5) (2020.12.5)\n",
            "Requirement already satisfied: urllib3!=1.25.0,!=1.25.1,<1.26,>=1.21.1 in /usr/local/lib/python3.7/dist-packages (from requests<3.0.0,>=2.13.0->spacy>=2.2.2->en_core_web_sm==2.2.5) (1.24.3)\n",
            "Requirement already satisfied: importlib-metadata>=0.20; python_version < \"3.8\" in /usr/local/lib/python3.7/dist-packages (from catalogue<1.1.0,>=0.0.7->spacy>=2.2.2->en_core_web_sm==2.2.5) (4.0.1)\n",
            "Requirement already satisfied: zipp>=0.5 in /usr/local/lib/python3.7/dist-packages (from importlib-metadata>=0.20; python_version < \"3.8\"->catalogue<1.1.0,>=0.0.7->spacy>=2.2.2->en_core_web_sm==2.2.5) (3.4.1)\n",
            "Requirement already satisfied: typing-extensions>=3.6.4; python_version < \"3.8\" in /usr/local/lib/python3.7/dist-packages (from importlib-metadata>=0.20; python_version < \"3.8\"->catalogue<1.1.0,>=0.0.7->spacy>=2.2.2->en_core_web_sm==2.2.5) (3.7.4.3)\n",
            "\u001b[38;5;2m✔ Download and installation successful\u001b[0m\n",
            "You can now load the model via spacy.load('en_core_web_sm')\n"
          ],
          "name": "stdout"
        }
      ]
    },
    {
      "cell_type": "markdown",
      "metadata": {
        "id": "hEJI8H0n6l-U"
      },
      "source": [
        "###Updating NER###"
      ]
    },
    {
      "cell_type": "code",
      "metadata": {
        "id": "KibB6xx6rE7P"
      },
      "source": [
        "# Getting the pipeline component\n",
        "ner = nlp.get_pipe(\"ner\")"
      ],
      "execution_count": 7,
      "outputs": []
    },
    {
      "cell_type": "markdown",
      "metadata": {
        "id": "4VlXl51JJk2L"
      },
      "source": [
        "## Load processed (and cleaned) Reddit data\n",
        "\n",
        "* Go through every sentence's all word-tag pair (except \"NONE\") and calculate the start and end index.\n",
        "* After getting the (start, end) pair, check if this pair was already calcualted (i.e., either the start_index, OR end_index, OR both are matching with the ones in list), and if so, discard the pair and continue calculuting again, skipping over the one discarded."
      ]
    },
    {
      "cell_type": "code",
      "metadata": {
        "id": "bhAetUWuZm76"
      },
      "source": [
        "import pandas as pd\n",
        "import re\n",
        "from numpy.core.defchararray import find\n",
        "\n",
        "col_names = ['text', 'entities']\n",
        "\n",
        "data = pd.read_csv('./processed_data.csv', names=col_names)\n",
        "entity_list = data.entities.to_list()\n",
        "\n",
        "DATA = []\n",
        "\n",
        "for index, ent in enumerate(entity_list):\n",
        "  if(ent==\"split_sentences\"):\n",
        "    continue\n",
        "  \n",
        "  ent = ent.split(\"), (\")\n",
        "  ent[0] = re.sub(\"[([]\", \"\", ent[0])\n",
        "  ent[-1] = re.sub(\"[)]]\", \"\", ent[-1])\n",
        "\n",
        "  # Initilize index list, to store pairs of (start, end) indices\n",
        "  indices_list = [(-1, -1), (-1, -1)]\n",
        "\n",
        "  annot_list = []\n",
        "  start_index = 0\n",
        "  end_index = 0\n",
        "\n",
        "  # Analyze current \"split_sentences\"'s all word-pairs\n",
        "  for index_ent, word_pair in enumerate(ent):\n",
        "    # Split the word and its pair\n",
        "    word_pair_list = word_pair.split(\"'\")[1::2]\n",
        "    if word_pair_list[1]!=\"NONE\":\n",
        "\n",
        "      # Remove any leading or beginning blank space\n",
        "      word_pair_list[0] = word_pair_list[0].strip()\n",
        "\n",
        "      start_index = find(data['text'][index].lower(), word_pair_list[0]).astype(numpy.int64)\n",
        "      start_index = start_index + 0\n",
        "      end_index = start_index + len(word_pair_list[0])\n",
        "\n",
        "      # Doesn't happen, just for a check  \n",
        "      if start_index == -1:\n",
        "        print(\"-1 error\")\n",
        "        print(data['text'][index])\n",
        "        break\n",
        "\n",
        "      # Check if this start_index and/or end_index is already in the list:\n",
        "      # (To prevent overlapping with already tagged words)\n",
        "      while True:\n",
        "        if ((start_index, end_index) in indices_list) or (end_index in [i[1] for i in indices_list]) or (start_index in [i[0] for i in indices_list]):\n",
        "          start_index = find(data['text'][index].lower(), word_pair_list[0], start=end_index+1).astype(numpy.int64)\n",
        "          start_index = start_index + 0\n",
        "          end_index = start_index + len(word_pair_list[0])\n",
        "\n",
        "        else:\n",
        "          indices_list.append((start_index, end_index))\n",
        "          break\n",
        "\n",
        "      annot_list.append((start_index, end_index, word_pair_list[1]))\n",
        "\n",
        "  DATA.append((data['text'][index].lower(), {\"entities\": annot_list}))\n",
        "  # print(indices_list)\n",
        "\n"
      ],
      "execution_count": 8,
      "outputs": []
    },
    {
      "cell_type": "markdown",
      "metadata": {
        "id": "CQ8DaNRxYH1r"
      },
      "source": [
        "Randomly pull out 5 segments for test data"
      ]
    },
    {
      "cell_type": "code",
      "metadata": {
        "colab": {
          "base_uri": "https://localhost:8080/"
        },
        "id": "2kbJQf336hU_",
        "outputId": "fed20ec5-9ee9-43b9-df9c-e82eadd625fa"
      },
      "source": [
        "import random\n",
        "random.shuffle(DATA)\n",
        "\n",
        "# First 5 elements form test data after shuffling\n",
        "TEST_DATA = DATA[:5]\n",
        "\n",
        "for text, annotations in TEST_DATA:\n",
        "  print(text)\n",
        "  print(annotations)\n",
        "\n",
        "TRAIN_DATA = DATA[5:len(DATA)]\n",
        "print(\"\\n\")\n",
        "\n",
        "# for text, annotations in TRAIN_DATA:\n",
        "#   print(text)\n",
        "#   print(annotations)\n",
        "\n",
        "print(\"\\nLength of test data: \", len(TEST_DATA))\n",
        "print(\"Length of train data: \", len(TRAIN_DATA))\n"
      ],
      "execution_count": 9,
      "outputs": [
        {
          "output_type": "stream",
          "text": [
            "sometimes it 2019s just easier in given situations to hit a note on a different string like if you 2019re doing a pattern that you would have to break if you wanted to go to the next string maybe i don 2019t know not a guitar player other than basic chords there 2019s just options and in given situations some are easier and some are more difficult\n",
            "{'entities': [(219, 225, 'INSTR')]}\n",
            "use a low or medium tension classical guitar string set the guitar d is wound for your low g strings d g b e tune to g c e a the same tuning and tension as capo 5 on a guitar i did a bunch of research on various strings and their compatibility on the ukulele some are not suitable as the tension is too high hard i use augustine black classical guitar strings on my tenor they will work on concert and soprano as well d addario actually repackage their classical strings as uke strings\n",
            "{'entities': [(38, 44, 'INSTR'), (60, 66, 'INSTR'), (251, 258, 'INSTR')]}\n",
            "more about his tone rather than the actual guitars but you might like this as another commenter said it definitely seems like he used somewhat dead strings\n",
            "{'entities': [(43, 50, 'INSTR')]}\n",
            "there are many things you can do but there is no formula to perfect music it is all about knowing what you want to add to make your song better and when also as a fellow virtual riot fan depending on what style of his music you like you just need to know what it consists of for example his melodic dupstep is made of chord stacks and glitchy fills and percussive breaks his riddim consists of basses sub drums and fx also keep in mind that sometimes less is more your music might get too cluttered and messy if you add too much so practice and listen to other music to get a feel for the good measure\n",
            "{'entities': [(394, 400, 'INSTR'), (405, 410, 'INSTR')]}\n",
            "hey dude i think it 2019s important not to conflate a few different skill sets here music theory playing guitar writing a song and singing they all definitely have a role in the process but it 2019s probably smart to distinguish between them so you can focus your efforts i think the guitar playing component is the least mysterious plenty of notable of songwriters have eked by with minimal skill you will probably deal mostly with chords so i 2019d start there beyond major and minor there are three types of 7 chords major 7 minor 7 dominant 7 that can add a lot of color and identity to a songs base i 2019d focus on learning as many of these shapes as possible happy to provide more info on that writing a song is way less clear it 2019s super challenging and like others have mentioned the secret sauce is really just doing it over and over ad nauseum see the gap for some classic ira glass wisdom they 2019ll probably be bad at first but that 2019s okay you just have to start write a song and finish it finishing is the important bit and then do it again if i can recommend some literature that might be helpful i 2019d highly recommend the war of art by steven pressfield spoiler alert the main thesis of the book is just to fight through resistance and keep creating even when you think it sucks or get discouraged great read also if you 2019re into uncle tupelo or wilco which by the sound of it you well may be then i 2019d also highly recommend jeff tweedy 2019s memoir let 2019s go so we can get back he has a great philosophy on songwriting and talks about it a lot he also published a book called how to write one song which i haven 2019t read but imagine is great as well sorry for the ramble - good luck music is equally frustrating and satisfying but a lifelong journey and definitely worth pursuing\n",
            "{'entities': [(105, 111, 'INSTR')]}\n",
            "\n",
            "\n",
            "\n",
            "Length of test data:  5\n",
            "Length of train data:  176\n"
          ],
          "name": "stdout"
        }
      ]
    },
    {
      "cell_type": "markdown",
      "metadata": {
        "id": "0PK71RupWQnZ"
      },
      "source": [
        "## Adding labels to the `ner`\n"
      ]
    },
    {
      "cell_type": "code",
      "metadata": {
        "id": "LqjxlFOMCxiq"
      },
      "source": [
        "for _, annotations in TRAIN_DATA:\n",
        "  for ent in annotations.get(\"entities\"):\n",
        "    ner.add_label(ent[2])"
      ],
      "execution_count": 10,
      "outputs": []
    },
    {
      "cell_type": "markdown",
      "metadata": {
        "id": "53jmOHKWWgpO"
      },
      "source": [
        "###Disable pipeline components that is not changed"
      ]
    },
    {
      "cell_type": "code",
      "metadata": {
        "id": "Phkm8ugvWVdd"
      },
      "source": [
        "pipe_exceptions = [\"ner\", \"trf_wordpiecer\", \"trf_tok2vec\"]\n",
        "unaffected_pipes = [pipe for pipe in nlp.pipe_names if pipe not in pipe_exceptions]"
      ],
      "execution_count": 11,
      "outputs": []
    },
    {
      "cell_type": "markdown",
      "metadata": {
        "id": "2WMAnYtSXknr"
      },
      "source": [
        "###Train NER###"
      ]
    },
    {
      "cell_type": "code",
      "metadata": {
        "id": "DnkTk5EkWvw6"
      },
      "source": [
        "# Import requirements\n",
        "from spacy.util import minibatch, compounding\n",
        "from pathlib import Path\n",
        "\n",
        "ITERATIONS = 64\n",
        "DROPOUT = 0.1\n",
        "\n",
        "# TRAINING THE MODEL\n",
        "with nlp.disable_pipes(*unaffected_pipes):\n",
        "  for iteration in range(ITERATIONS):\n",
        "    # print(\"Iteration: \", iteration)\n",
        "    # shuufling examples  before every iteration\n",
        "    random.shuffle(TRAIN_DATA)\n",
        "    losses = {}\n",
        "    # batch up the examples using spaCy's minibatch\n",
        "    batches = minibatch(TRAIN_DATA, size=compounding(4.0, 32.0, 1.001))\n",
        "    for batch in batches:\n",
        "        \n",
        "        texts, annotations = zip(*batch)\n",
        "        nlp.update(\n",
        "                    texts,  # batch of texts\n",
        "                    annotations,  # batch of annotations\n",
        "                    drop = DROPOUT,  # dropout - make it harder to memorise data\n",
        "                    losses=losses\n",
        "                )\n",
        "        # print(\"Losses\", losses)"
      ],
      "execution_count": 12,
      "outputs": []
    },
    {
      "cell_type": "markdown",
      "metadata": {
        "id": "PVi_2w3GJA4Q"
      },
      "source": [
        "### Test on TEST_DATA"
      ]
    },
    {
      "cell_type": "code",
      "metadata": {
        "colab": {
          "base_uri": "https://localhost:8080/"
        },
        "id": "eWVEyZBlBWUK",
        "outputId": "60f3a1df-fc53-4d63-bc2b-67145cae4c44"
      },
      "source": [
        "for example in TEST_DATA:\n",
        "  print(example[0])\n",
        "  doc = nlp(example[0])\n",
        "  print(\"Entities\", [(ent.text, ent.label_) for ent in doc.ents])"
      ],
      "execution_count": 13,
      "outputs": [
        {
          "output_type": "stream",
          "text": [
            "sometimes it 2019s just easier in given situations to hit a note on a different string like if you 2019re doing a pattern that you would have to break if you wanted to go to the next string maybe i don 2019t know not a guitar player other than basic chords there 2019s just options and in given situations some are easier and some are more difficult\n",
            "Entities []\n",
            "use a low or medium tension classical guitar string set the guitar d is wound for your low g strings d g b e tune to g c e a the same tuning and tension as capo 5 on a guitar i did a bunch of research on various strings and their compatibility on the ukulele some are not suitable as the tension is too high hard i use augustine black classical guitar strings on my tenor they will work on concert and soprano as well d addario actually repackage their classical strings as uke strings\n",
            "Entities [('guitar', 'INSTR'), ('guitar', 'INSTR'), ('soprano', 'INSTR')]\n",
            "more about his tone rather than the actual guitars but you might like this as another commenter said it definitely seems like he used somewhat dead strings\n",
            "Entities [('guitars', 'INSTR')]\n",
            "there are many things you can do but there is no formula to perfect music it is all about knowing what you want to add to make your song better and when also as a fellow virtual riot fan depending on what style of his music you like you just need to know what it consists of for example his melodic dupstep is made of chord stacks and glitchy fills and percussive breaks his riddim consists of basses sub drums and fx also keep in mind that sometimes less is more your music might get too cluttered and messy if you add too much so practice and listen to other music to get a feel for the good measure\n",
            "Entities [('drums', 'INSTR')]\n",
            "hey dude i think it 2019s important not to conflate a few different skill sets here music theory playing guitar writing a song and singing they all definitely have a role in the process but it 2019s probably smart to distinguish between them so you can focus your efforts i think the guitar playing component is the least mysterious plenty of notable of songwriters have eked by with minimal skill you will probably deal mostly with chords so i 2019d start there beyond major and minor there are three types of 7 chords major 7 minor 7 dominant 7 that can add a lot of color and identity to a songs base i 2019d focus on learning as many of these shapes as possible happy to provide more info on that writing a song is way less clear it 2019s super challenging and like others have mentioned the secret sauce is really just doing it over and over ad nauseum see the gap for some classic ira glass wisdom they 2019ll probably be bad at first but that 2019s okay you just have to start write a song and finish it finishing is the important bit and then do it again if i can recommend some literature that might be helpful i 2019d highly recommend the war of art by steven pressfield spoiler alert the main thesis of the book is just to fight through resistance and keep creating even when you think it sucks or get discouraged great read also if you 2019re into uncle tupelo or wilco which by the sound of it you well may be then i 2019d also highly recommend jeff tweedy 2019s memoir let 2019s go so we can get back he has a great philosophy on songwriting and talks about it a lot he also published a book called how to write one song which i haven 2019t read but imagine is great as well sorry for the ramble - good luck music is equally frustrating and satisfying but a lifelong journey and definitely worth pursuing\n",
            "Entities [('guitar', 'INSTR')]\n"
          ],
          "name": "stdout"
        }
      ]
    },
    {
      "cell_type": "markdown",
      "metadata": {
        "id": "vWZ-srQVJFD_"
      },
      "source": [
        "### Print original TEST_DATA"
      ]
    },
    {
      "cell_type": "code",
      "metadata": {
        "colab": {
          "base_uri": "https://localhost:8080/"
        },
        "id": "FAHYimYuNYJl",
        "outputId": "15a30cdb-bcb3-47c1-e568-e9e9541dbef7"
      },
      "source": [
        "for text, annotations in TEST_DATA:\n",
        "  print(text)\n",
        "  print(annotations)"
      ],
      "execution_count": 14,
      "outputs": [
        {
          "output_type": "stream",
          "text": [
            "sometimes it 2019s just easier in given situations to hit a note on a different string like if you 2019re doing a pattern that you would have to break if you wanted to go to the next string maybe i don 2019t know not a guitar player other than basic chords there 2019s just options and in given situations some are easier and some are more difficult\n",
            "{'entities': [(219, 225, 'INSTR')]}\n",
            "use a low or medium tension classical guitar string set the guitar d is wound for your low g strings d g b e tune to g c e a the same tuning and tension as capo 5 on a guitar i did a bunch of research on various strings and their compatibility on the ukulele some are not suitable as the tension is too high hard i use augustine black classical guitar strings on my tenor they will work on concert and soprano as well d addario actually repackage their classical strings as uke strings\n",
            "{'entities': [(38, 44, 'INSTR'), (60, 66, 'INSTR'), (251, 258, 'INSTR')]}\n",
            "more about his tone rather than the actual guitars but you might like this as another commenter said it definitely seems like he used somewhat dead strings\n",
            "{'entities': [(43, 50, 'INSTR')]}\n",
            "there are many things you can do but there is no formula to perfect music it is all about knowing what you want to add to make your song better and when also as a fellow virtual riot fan depending on what style of his music you like you just need to know what it consists of for example his melodic dupstep is made of chord stacks and glitchy fills and percussive breaks his riddim consists of basses sub drums and fx also keep in mind that sometimes less is more your music might get too cluttered and messy if you add too much so practice and listen to other music to get a feel for the good measure\n",
            "{'entities': [(394, 400, 'INSTR'), (405, 410, 'INSTR')]}\n",
            "hey dude i think it 2019s important not to conflate a few different skill sets here music theory playing guitar writing a song and singing they all definitely have a role in the process but it 2019s probably smart to distinguish between them so you can focus your efforts i think the guitar playing component is the least mysterious plenty of notable of songwriters have eked by with minimal skill you will probably deal mostly with chords so i 2019d start there beyond major and minor there are three types of 7 chords major 7 minor 7 dominant 7 that can add a lot of color and identity to a songs base i 2019d focus on learning as many of these shapes as possible happy to provide more info on that writing a song is way less clear it 2019s super challenging and like others have mentioned the secret sauce is really just doing it over and over ad nauseum see the gap for some classic ira glass wisdom they 2019ll probably be bad at first but that 2019s okay you just have to start write a song and finish it finishing is the important bit and then do it again if i can recommend some literature that might be helpful i 2019d highly recommend the war of art by steven pressfield spoiler alert the main thesis of the book is just to fight through resistance and keep creating even when you think it sucks or get discouraged great read also if you 2019re into uncle tupelo or wilco which by the sound of it you well may be then i 2019d also highly recommend jeff tweedy 2019s memoir let 2019s go so we can get back he has a great philosophy on songwriting and talks about it a lot he also published a book called how to write one song which i haven 2019t read but imagine is great as well sorry for the ramble - good luck music is equally frustrating and satisfying but a lifelong journey and definitely worth pursuing\n",
            "{'entities': [(105, 111, 'INSTR')]}\n"
          ],
          "name": "stdout"
        }
      ]
    },
    {
      "cell_type": "markdown",
      "metadata": {
        "id": "SR88U92mJL1f"
      },
      "source": [
        "### Extracting Entities\n",
        "(Not used)"
      ]
    },
    {
      "cell_type": "code",
      "metadata": {
        "colab": {
          "base_uri": "https://localhost:8080/"
        },
        "id": "EIWEl15-0-7S",
        "outputId": "d0938879-d2e1-4af2-fcfd-306cc62b1f37"
      },
      "source": [
        "for text, annotations in TEST_DATA:\n",
        "  print(list(annotations.values()))"
      ],
      "execution_count": 26,
      "outputs": [
        {
          "output_type": "stream",
          "text": [
            "dict_values([[(219, 225, 'INSTR')]])\n",
            "dict_values([[(38, 44, 'INSTR'), (60, 66, 'INSTR'), (251, 258, 'INSTR')]])\n",
            "dict_values([[(43, 50, 'INSTR')]])\n",
            "dict_values([[(394, 400, 'INSTR'), (405, 410, 'INSTR')]])\n",
            "dict_values([[(105, 111, 'INSTR')]])\n"
          ],
          "name": "stdout"
        }
      ]
    },
    {
      "cell_type": "code",
      "metadata": {
        "colab": {
          "base_uri": "https://localhost:8080/"
        },
        "id": "kXasNID87K3x",
        "outputId": "bfed5a40-c2c0-45b9-9f39-56c6546251f5"
      },
      "source": [
        "for ent_iterator in range(len(TEST_DATA)):\n",
        "  print(list(*TEST_DATA[ent_iterator][1].values()))"
      ],
      "execution_count": 44,
      "outputs": [
        {
          "output_type": "stream",
          "text": [
            "[(219, 225, 'INSTR')]\n",
            "[(38, 44, 'INSTR'), (60, 66, 'INSTR'), (251, 258, 'INSTR')]\n",
            "[(43, 50, 'INSTR')]\n",
            "[(394, 400, 'INSTR'), (405, 410, 'INSTR')]\n",
            "[(105, 111, 'INSTR')]\n"
          ],
          "name": "stdout"
        }
      ]
    },
    {
      "cell_type": "code",
      "metadata": {
        "colab": {
          "base_uri": "https://localhost:8080/"
        },
        "id": "Fo4LY9E96c28",
        "outputId": "2a082d36-259f-4f12-c35e-72bbb9a67832"
      },
      "source": [
        "TEST_DATA[0][1]"
      ],
      "execution_count": 29,
      "outputs": [
        {
          "output_type": "execute_result",
          "data": {
            "text/plain": [
              "{'entities': [(219, 225, 'INSTR')]}"
            ]
          },
          "metadata": {
            "tags": []
          },
          "execution_count": 29
        }
      ]
    },
    {
      "cell_type": "markdown",
      "metadata": {
        "id": "kCbFknpKJUQ1"
      },
      "source": [
        "### Evaluate scores on TEST_DATA"
      ]
    },
    {
      "cell_type": "code",
      "metadata": {
        "colab": {
          "base_uri": "https://localhost:8080/"
        },
        "id": "1UTJrKoG9law",
        "outputId": "83183e93-3a60-43b5-dfe7-118ee748cafe"
      },
      "source": [
        "from spacy.gold import GoldParse\n",
        "from spacy.scorer import Scorer\n",
        "\n",
        "scorer = Scorer()\n",
        "\n",
        "for text, annot in TEST_DATA:\n",
        "  # Create a Doc of our text\n",
        "  doc_gold_text = nlp.make_doc(text)\n",
        "\n",
        "  # Create gold-standard using the Doc of text\n",
        "  # and original (correct) entities\n",
        "  gold = GoldParse(doc_gold_text, entities=annot['entities'])\n",
        "\n",
        "  pred_value = nlp(text)\n",
        "\n",
        "  # Generate scores by comparing predicted with gold-standard values\n",
        "  scorer.score(pred_value, gold)\n",
        "\n",
        "print(\"All scores: \", scorer.scores)\n",
        "\n",
        "print(\"\\nents_p (aka Precision): \", scorer.scores['ents_p'])\n",
        "print(\"ents_r (aka Recall): \", scorer.scores['ents_r'])\n",
        "print(\"ents_f (aka fscore): \", scorer.scores['ents_f'])"
      ],
      "execution_count": 54,
      "outputs": [
        {
          "output_type": "stream",
          "text": [
            "All scores:  {'uas': 0.0, 'las': 0.0, 'las_per_type': {'advmod': {'p': 0.0, 'r': 0.0, 'f': 0.0}, 'nsubj': {'p': 0.0, 'r': 0.0, 'f': 0.0}, 'appos': {'p': 0.0, 'r': 0.0, 'f': 0.0}, 'root': {'p': 0.0, 'r': 0.0, 'f': 0.0}, 'prep': {'p': 0.0, 'r': 0.0, 'f': 0.0}, 'amod': {'p': 0.0, 'r': 0.0, 'f': 0.0}, 'pobj': {'p': 0.0, 'r': 0.0, 'f': 0.0}, 'aux': {'p': 0.0, 'r': 0.0, 'f': 0.0}, 'acl': {'p': 0.0, 'r': 0.0, 'f': 0.0}, 'det': {'p': 0.0, 'r': 0.0, 'f': 0.0}, 'dobj': {'p': 0.0, 'r': 0.0, 'f': 0.0}, 'mark': {'p': 0.0, 'r': 0.0, 'f': 0.0}, 'advcl': {'p': 0.0, 'r': 0.0, 'f': 0.0}, 'relcl': {'p': 0.0, 'r': 0.0, 'f': 0.0}, 'xcomp': {'p': 0.0, 'r': 0.0, 'f': 0.0}, 'nummod': {'p': 0.0, 'r': 0.0, 'f': 0.0}, 'neg': {'p': 0.0, 'r': 0.0, 'f': 0.0}, 'compound': {'p': 0.0, 'r': 0.0, 'f': 0.0}, 'npadvmod': {'p': 0.0, 'r': 0.0, 'f': 0.0}, 'cc': {'p': 0.0, 'r': 0.0, 'f': 0.0}, 'pcomp': {'p': 0.0, 'r': 0.0, 'f': 0.0}, 'acomp': {'p': 0.0, 'r': 0.0, 'f': 0.0}, 'conj': {'p': 0.0, 'r': 0.0, 'f': 0.0}, 'nmod': {'p': 0.0, 'r': 0.0, 'f': 0.0}, 'auxpass': {'p': 0.0, 'r': 0.0, 'f': 0.0}, 'poss': {'p': 0.0, 'r': 0.0, 'f': 0.0}, 'intj': {'p': 0.0, 'r': 0.0, 'f': 0.0}, 'ccomp': {'p': 0.0, 'r': 0.0, 'f': 0.0}, 'expl': {'p': 0.0, 'r': 0.0, 'f': 0.0}, 'attr': {'p': 0.0, 'r': 0.0, 'f': 0.0}, 'nsubjpass': {'p': 0.0, 'r': 0.0, 'f': 0.0}, 'quantmod': {'p': 0.0, 'r': 0.0, 'f': 0.0}, 'prt': {'p': 0.0, 'r': 0.0, 'f': 0.0}}, 'ents_p': 66.66666666666666, 'ents_r': 50.0, 'ents_f': 57.14285714285715, 'ents_per_type': {'INSTR': {'p': 66.66666666666666, 'r': 50.0, 'f': 57.14285714285715}}, 'tags_acc': 0.0, 'token_acc': 100.0, 'textcat_score': 0.0, 'textcats_per_cat': {}}\n",
            "\n",
            "ents_p (aka Precision):  66.66666666666666\n",
            "ents_r (aka Recall):  50.0\n",
            "ents_f (aka fscore):  57.14285714285715\n"
          ],
          "name": "stdout"
        }
      ]
    },
    {
      "cell_type": "markdown",
      "metadata": {
        "id": "DFG0w6IMpHLa"
      },
      "source": [
        "## Test on custom unseen data"
      ]
    },
    {
      "cell_type": "code",
      "metadata": {
        "colab": {
          "base_uri": "https://localhost:8080/"
        },
        "id": "YRfGX_40BWUL",
        "outputId": "57be60ba-7cc2-42b9-e7a8-374865bcf473"
      },
      "source": [
        "doc = nlp(\"Play me a guitar, and it shouldn't be distorted.\")\n",
        "print(\"Entities\", [(ent.text, ent.label_) for ent in doc.ents])\n",
        "\n",
        "doc = nlp(\"Give me a sharp cello.\")\n",
        "print(\"Entities\", [(ent.text, ent.label_) for ent in doc.ents])\n",
        "\n",
        "doc = nlp(\"I used to play guitar, now I play violin and it has some kind of distortion.\")\n",
        "print(\"Entities\", [(ent.text, ent.label_) for ent in doc.ents])\n"
      ],
      "execution_count": 16,
      "outputs": [
        {
          "output_type": "stream",
          "text": [
            "Entities [('guitar', 'INSTR')]\n",
            "Entities [('sharp', 'QLTY')]\n",
            "Entities [('guitar', 'INSTR'), ('violin', 'INSTR'), ('distortion', 'QLTY')]\n"
          ],
          "name": "stdout"
        }
      ]
    }
  ]
}