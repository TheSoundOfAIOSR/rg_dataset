{
  "nbformat": 4,
  "nbformat_minor": 0,
  "metadata": {
    "colab": {
      "name": "uncleaned_reddit_spacy_ner.ipynb",
      "provenance": [],
      "collapsed_sections": [
        "Aox8lnj2k5k_"
      ]
    },
    "kernelspec": {
      "name": "python3",
      "display_name": "Python 3"
    },
    "accelerator": "GPU"
  },
  "cells": [
    {
      "cell_type": "markdown",
      "metadata": {
        "id": "h2PLOjWAAwcx"
      },
      "source": [
        "# Instrument and Quality Recognition using spaCy's NER"
      ]
    },
    {
      "cell_type": "markdown",
      "metadata": {
        "id": "0zTgDnJZJPqH"
      },
      "source": [
        "## Import libraries"
      ]
    },
    {
      "cell_type": "code",
      "metadata": {
        "id": "rQf7NX6eo-Ae"
      },
      "source": [
        "import spacy \n",
        "from spacy import displacy\n",
        "import pandas as pd\n",
        "\n",
        "import numpy\n",
        "numpy.random.seed(0)"
      ],
      "execution_count": 31,
      "outputs": []
    },
    {
      "cell_type": "markdown",
      "metadata": {
        "id": "VDAY1ayuJTnb"
      },
      "source": [
        "## Download and load spaCy language model"
      ]
    },
    {
      "cell_type": "code",
      "metadata": {
        "colab": {
          "base_uri": "https://localhost:8080/"
        },
        "id": "UaJC5o7XpHOs",
        "outputId": "290b2f91-f2d7-4fd7-dd8d-7eb8e3c10f57"
      },
      "source": [
        "#Download spacy small model\n",
        "!python -m spacy download en_core_web_sm\n",
        "\n",
        "# Load SpaCy model\n",
        "nlp = spacy.load(\"en_core_web_sm\")\n",
        "\n",
        "# Getting the pipeline component\n",
        "ner = nlp.get_pipe(\"ner\")"
      ],
      "execution_count": 32,
      "outputs": [
        {
          "output_type": "stream",
          "text": [
            "Requirement already satisfied: en_core_web_sm==2.2.5 from https://github.com/explosion/spacy-models/releases/download/en_core_web_sm-2.2.5/en_core_web_sm-2.2.5.tar.gz#egg=en_core_web_sm==2.2.5 in /usr/local/lib/python3.7/dist-packages (2.2.5)\n",
            "Requirement already satisfied: spacy>=2.2.2 in /usr/local/lib/python3.7/dist-packages (from en_core_web_sm==2.2.5) (2.2.4)\n",
            "Requirement already satisfied: thinc==7.4.0 in /usr/local/lib/python3.7/dist-packages (from spacy>=2.2.2->en_core_web_sm==2.2.5) (7.4.0)\n",
            "Requirement already satisfied: setuptools in /usr/local/lib/python3.7/dist-packages (from spacy>=2.2.2->en_core_web_sm==2.2.5) (54.1.2)\n",
            "Requirement already satisfied: cymem<2.1.0,>=2.0.2 in /usr/local/lib/python3.7/dist-packages (from spacy>=2.2.2->en_core_web_sm==2.2.5) (2.0.5)\n",
            "Requirement already satisfied: preshed<3.1.0,>=3.0.2 in /usr/local/lib/python3.7/dist-packages (from spacy>=2.2.2->en_core_web_sm==2.2.5) (3.0.5)\n",
            "Requirement already satisfied: plac<1.2.0,>=0.9.6 in /usr/local/lib/python3.7/dist-packages (from spacy>=2.2.2->en_core_web_sm==2.2.5) (1.1.3)\n",
            "Requirement already satisfied: catalogue<1.1.0,>=0.0.7 in /usr/local/lib/python3.7/dist-packages (from spacy>=2.2.2->en_core_web_sm==2.2.5) (1.0.0)\n",
            "Requirement already satisfied: murmurhash<1.1.0,>=0.28.0 in /usr/local/lib/python3.7/dist-packages (from spacy>=2.2.2->en_core_web_sm==2.2.5) (1.0.5)\n",
            "Requirement already satisfied: wasabi<1.1.0,>=0.4.0 in /usr/local/lib/python3.7/dist-packages (from spacy>=2.2.2->en_core_web_sm==2.2.5) (0.8.2)\n",
            "Requirement already satisfied: requests<3.0.0,>=2.13.0 in /usr/local/lib/python3.7/dist-packages (from spacy>=2.2.2->en_core_web_sm==2.2.5) (2.23.0)\n",
            "Requirement already satisfied: blis<0.5.0,>=0.4.0 in /usr/local/lib/python3.7/dist-packages (from spacy>=2.2.2->en_core_web_sm==2.2.5) (0.4.1)\n",
            "Requirement already satisfied: srsly<1.1.0,>=1.0.2 in /usr/local/lib/python3.7/dist-packages (from spacy>=2.2.2->en_core_web_sm==2.2.5) (1.0.5)\n",
            "Requirement already satisfied: numpy>=1.15.0 in /usr/local/lib/python3.7/dist-packages (from spacy>=2.2.2->en_core_web_sm==2.2.5) (1.19.5)\n",
            "Requirement already satisfied: tqdm<5.0.0,>=4.38.0 in /usr/local/lib/python3.7/dist-packages (from spacy>=2.2.2->en_core_web_sm==2.2.5) (4.41.1)\n",
            "Requirement already satisfied: importlib-metadata>=0.20; python_version < \"3.8\" in /usr/local/lib/python3.7/dist-packages (from catalogue<1.1.0,>=0.0.7->spacy>=2.2.2->en_core_web_sm==2.2.5) (3.7.2)\n",
            "Requirement already satisfied: idna<3,>=2.5 in /usr/local/lib/python3.7/dist-packages (from requests<3.0.0,>=2.13.0->spacy>=2.2.2->en_core_web_sm==2.2.5) (2.10)\n",
            "Requirement already satisfied: chardet<4,>=3.0.2 in /usr/local/lib/python3.7/dist-packages (from requests<3.0.0,>=2.13.0->spacy>=2.2.2->en_core_web_sm==2.2.5) (3.0.4)\n",
            "Requirement already satisfied: certifi>=2017.4.17 in /usr/local/lib/python3.7/dist-packages (from requests<3.0.0,>=2.13.0->spacy>=2.2.2->en_core_web_sm==2.2.5) (2020.12.5)\n",
            "Requirement already satisfied: urllib3!=1.25.0,!=1.25.1,<1.26,>=1.21.1 in /usr/local/lib/python3.7/dist-packages (from requests<3.0.0,>=2.13.0->spacy>=2.2.2->en_core_web_sm==2.2.5) (1.24.3)\n",
            "Requirement already satisfied: typing-extensions>=3.6.4; python_version < \"3.8\" in /usr/local/lib/python3.7/dist-packages (from importlib-metadata>=0.20; python_version < \"3.8\"->catalogue<1.1.0,>=0.0.7->spacy>=2.2.2->en_core_web_sm==2.2.5) (3.7.4.3)\n",
            "Requirement already satisfied: zipp>=0.5 in /usr/local/lib/python3.7/dist-packages (from importlib-metadata>=0.20; python_version < \"3.8\"->catalogue<1.1.0,>=0.0.7->spacy>=2.2.2->en_core_web_sm==2.2.5) (3.4.1)\n",
            "\u001b[38;5;2m✔ Download and installation successful\u001b[0m\n",
            "You can now load the model via spacy.load('en_core_web_sm')\n"
          ],
          "name": "stdout"
        }
      ]
    },
    {
      "cell_type": "markdown",
      "metadata": {
        "id": "oTn1jYv6mI3O"
      },
      "source": [
        "## Load Doccano labelled dataset"
      ]
    },
    {
      "cell_type": "code",
      "metadata": {
        "id": "t5Whz9uwEQl2",
        "colab": {
          "base_uri": "https://localhost:8080/"
        },
        "outputId": "f0fb35ba-9420-4e3f-a91f-94214b9df1d3"
      },
      "source": [
        "import json\n",
        "\n",
        "with open('./project_1_dataset.jsonl', 'r') as json_file:\n",
        "    json_list = list(json_file)\n",
        "\n",
        "df_dataset = pd.DataFrame()\n",
        "\n",
        "DATA = []\n",
        "\n",
        "for json_str in json_list:\n",
        "    result = json.loads(json_str)\n",
        "\n",
        "    # Filter out those entries which do NOT have any annotations\n",
        "    if(bool(result['annotations'])==True):\n",
        "      # print(result)\n",
        "      annot_list = []\n",
        "      for i in range(len(result['annotations'])):\n",
        "        start_idx = result['annotations'][i]['start_offset']\n",
        "        end_idx = result['annotations'][i]['end_offset']\n",
        "        label = \"INSTRUMENT\" if result['annotations'][i]['label'] == 1 else \"QUALITY\"\n",
        "        annot_list.append((start_idx, end_idx, label))\n",
        "\n",
        "      DATA.append((result['text'], {\"entities\": annot_list}))\n",
        "\n",
        "\n",
        "for i in range(5):\n",
        "  print(DATA[i])"
      ],
      "execution_count": 34,
      "outputs": [
        {
          "output_type": "stream",
          "text": [
            "('[Example] I would like to find a dark sounding piano.', {'entities': [(33, 37, 'QUALITY'), (47, 52, 'INSTRUMENT')]})\n",
            "('[Example] The composition that I am trying to write would really benifit from a thick bass.', {'entities': [(80, 85, 'QUALITY'), (86, 90, 'INSTRUMENT')]})\n",
            "('[Example] Does anyone know what kind of guitar pedals I could use to generate a thin sound?', {'entities': [(40, 46, 'INSTRUMENT'), (80, 84, 'QUALITY')]})\n",
            "('\"Electric guitar timbre is so malleable that generalizations like this make little sense.  Beyond the instrument itself, every guitarist has personal preferences in amplifiers and a wide variety of stomp box effects.  The overtone series is dependent on the selection of vacuum tubes in the amplifier - the \\\\\"British\\\\\" (Marshall) vs \\\\\"American\\\\\" (Fender) sound. \\\\n\\\\nIn this [Bill Frisell concert](https://youtu.be/ifr8IowlQIM) the difference in timbre between violin and electric guitar couldn\\'t be more obvious.\",', {'entities': [(1, 16, 'INSTRUMENT'), (471, 486, 'INSTRUMENT'), (335, 343, 'QUALITY'), (309, 316, 'QUALITY'), (320, 328, 'QUALITY'), (347, 353, 'QUALITY'), (460, 466, 'INSTRUMENT')]})\n",
            "('\"Not to be \\\\\"that guy\\\\\", but having played violin for about 35 years, and guitar for 30 (electric could be 29.5), they are very very different, especially the timbre. \\\\n\\\\nAlso, you seem to be referring to \\\\\"increased sustain and the distortion\\\\\". That, especially the second, has nothing to do with the instrument and everything to do with the musical wave signal over wires/air that is converted back to sound after going through many many things, including an amplifier.\\\\n\\\\nI have an effect that makes my Electric sound like a Violin(GR-55), and I have a pickup for a violin that allows me to make it sound like a sustained, distorted electric when picked. \\\\n\\\\nThe timbre is still quite different, though that is what makes them different sounding really! Even a fretted steel strung violin or a fretless 4 string electric guitar still sounds like a violin vs. a guitar. \"', {'entities': [(616, 625, 'QUALITY'), (529, 535, 'INSTRUMENT'), (43, 49, 'INSTRUMENT'), (74, 80, 'INSTRUMENT'), (217, 224, 'QUALITY'), (233, 243, 'QUALITY'), (570, 576, 'INSTRUMENT'), (773, 785, 'QUALITY'), (786, 792, 'INSTRUMENT'), (816, 831, 'INSTRUMENT'), (865, 871, 'INSTRUMENT'), (852, 858, 'INSTRUMENT'), (798, 815, 'QUALITY'), (627, 637, 'QUALITY')]})\n"
          ],
          "name": "stdout"
        }
      ]
    },
    {
      "cell_type": "markdown",
      "metadata": {
        "id": "CQ8DaNRxYH1r"
      },
      "source": [
        "## Prepare TRAIN and TEST data\n",
        "\n",
        "Randomly pull out 5 segments for test data"
      ]
    },
    {
      "cell_type": "code",
      "metadata": {
        "colab": {
          "base_uri": "https://localhost:8080/"
        },
        "id": "2kbJQf336hU_",
        "outputId": "211348b0-d0b7-4500-fd73-c47b257217cd"
      },
      "source": [
        "import random\n",
        "random.shuffle(DATA)\n",
        "\n",
        "# First 5 elements form test data after shuffling\n",
        "TEST_DATA = DATA[:5]\n",
        "\n",
        "for text, annotations in TEST_DATA:\n",
        "  print(text)\n",
        "  print(annotations)\n",
        "\n",
        "TRAIN_DATA = DATA[5:len(DATA)]\n",
        "\n",
        "# for text, annotations in TRAIN_DATA:\n",
        "#   print(text)\n",
        "#   print(annotations)\n",
        "\n",
        "print(\"\\nLength of test data: \", len(TEST_DATA))\n",
        "print(\"Lenght of train data: \", len(TRAIN_DATA))\n"
      ],
      "execution_count": 35,
      "outputs": [
        {
          "output_type": "stream",
          "text": [
            "\"Almost no instrument produces a pure tone.  The flute is about the closest.  Generally, an instrument produces a load of notes that make up the harmonic series.  These are notes whose frequencies are a whole number multiple of times the base (or fundamental) frequency.  So, when you hear a piano playing 440Hz concert A, you're also hearing a little bit of the A an octave higher at 880Hz, and the E above that at 1320Hz, and the A at 1760Hz, etc.\\n\\nThe exact mix of these notes is what determines tone or timbre.\\n\\nYou can see this for yourself.  Download a free spectrum analyser app and sing in to it.  If you whistle, you'll see a sharp peak, pretty close to a pure tone.  Now sing a few different vowels and you'll see a bunch of spikes.  As you keep the note the same but change the vowels, you'll see the lowest not stays in the same place, but the higher tones change in position and amount.\",\n",
            "{'entities': [(33, 42, 'QUALITY'), (49, 55, 'INSTRUMENT'), (292, 298, 'INSTRUMENT'), (669, 678, 'QUALITY')]}\n",
            "\"What does \\\"good guitar tone\\\" mean?\": [\n",
            "{'entities': [(18, 25, 'INSTRUMENT')]}\n",
            "\"For string instruments, that would help with efficient with certain passages and convenience for different chord voicings. \\n\\nSaxophones, and some other wind instruments, do a thing called \\\"timbral trills\\\" (usually in jazz) where we repeat the same note with either an alternate fingering or different embouchure to alter the timbre of the note. For guitar I suppose playing the same note on different strings could emulate this effect, although I would think that the difference in timbre wouldn't be as drastic.\",\n",
            "{'entities': [(128, 138, 'INSTRUMENT'), (354, 360, 'INSTRUMENT'), (155, 171, 'INSTRUMENT')]}\n",
            "\"Really?  I liked the Timbre Wolf when I played with it.\\n\\nNot $300 liked, but I'd probably buy one for a cheap price.  Maybe I should have spent more time playing with it because I only really used it for 10 minutes before switching to far superior gear.\\n\\nAlso I should really check out my local GC now that they remodeled... last time the only synth they had available to use was an ultranova so I imagined all GC's were the same shitty stock.\",\n",
            "{'entities': [(22, 33, 'INSTRUMENT'), (349, 355, 'INSTRUMENT')]}\n",
            "\"There are many things you can do, but there is no formula to perfect music. It is all about knowing what you want to add to make your song better and when. Also, as a fellow virtual riot fan, depending on what style of his music you like you just need to know what it consists of. For example, his melodic dupstep is made of chord stacks and glitchy fills and percussive breaks, his riddim consists of basses, sub, drums and FX. Also keep in mind that sometimes less is more, your music might get too cluttered and messy if you add too much so practice and listen to other music to get a feel for the good measure.\",\n",
            "{'entities': [(403, 409, 'INSTRUMENT'), (416, 421, 'INSTRUMENT')]}\n",
            "\n",
            "Length of test data:  5\n",
            "Lenght of train data:  176\n"
          ],
          "name": "stdout"
        }
      ]
    },
    {
      "cell_type": "markdown",
      "metadata": {
        "id": "0PK71RupWQnZ"
      },
      "source": [
        "## Adding labels to the `ner`\n"
      ]
    },
    {
      "cell_type": "code",
      "metadata": {
        "id": "LqjxlFOMCxiq"
      },
      "source": [
        "for _, annotations in TRAIN_DATA:\n",
        "  for ent in annotations.get(\"entities\"):\n",
        "    ner.add_label(ent[2])"
      ],
      "execution_count": 36,
      "outputs": []
    },
    {
      "cell_type": "markdown",
      "metadata": {
        "id": "53jmOHKWWgpO"
      },
      "source": [
        "## Disable pipeline components that is not changed"
      ]
    },
    {
      "cell_type": "code",
      "metadata": {
        "id": "Phkm8ugvWVdd"
      },
      "source": [
        "pipe_exceptions = [\"ner\", \"trf_wordpiecer\", \"trf_tok2vec\"]\n",
        "unaffected_pipes = [pipe for pipe in nlp.pipe_names if pipe not in pipe_exceptions]"
      ],
      "execution_count": 37,
      "outputs": []
    },
    {
      "cell_type": "markdown",
      "metadata": {
        "id": "2WMAnYtSXknr"
      },
      "source": [
        "## Train NER"
      ]
    },
    {
      "cell_type": "code",
      "metadata": {
        "colab": {
          "base_uri": "https://localhost:8080/"
        },
        "id": "DnkTk5EkWvw6",
        "outputId": "f959e3c8-6026-47ac-82f8-6aed5d265cd2"
      },
      "source": [
        "# Import requirements\n",
        "import random\n",
        "from spacy.util import minibatch, compounding\n",
        "from pathlib import Path\n",
        "\n",
        "ITERATIONS = 100\n",
        "DROPOUT = 0.1\n",
        "\n",
        "# TRAINING THE MODEL\n",
        "with nlp.disable_pipes(*unaffected_pipes):\n",
        "  for iteration in range(ITERATIONS):\n",
        "    # print(\"Iteration: \", iteration)\n",
        "    # shufling examples  before every iteration\n",
        "    random.shuffle(TRAIN_DATA)\n",
        "    losses = {}\n",
        "    # batch up the examples using spaCy's minibatch\n",
        "    batches = minibatch(TRAIN_DATA, size=compounding(4.0, 32.0, 1.001))\n",
        "    for batch in batches:\n",
        "        \n",
        "        texts, annotations = zip(*batch)\n",
        "        nlp.update(\n",
        "                    texts,  # batch of texts\n",
        "                    annotations,  # batch of annotations\n",
        "                    drop = DROPOUT,  # dropout - make it harder to memorise data\n",
        "                    losses=losses\n",
        "                )\n",
        "        # print(\"Losses\", losses)\n",
        "\n",
        "print(\"Training finished\")"
      ],
      "execution_count": 38,
      "outputs": [
        {
          "output_type": "stream",
          "text": [
            "Training finished\n"
          ],
          "name": "stdout"
        }
      ]
    },
    {
      "cell_type": "code",
      "metadata": {
        "colab": {
          "base_uri": "https://localhost:8080/"
        },
        "id": "eWVEyZBlBWUK",
        "outputId": "f05717ad-e738-49ce-bed8-b0efb4ce44a0"
      },
      "source": [
        "for example in TEST_DATA:\n",
        "  print(example[0])\n",
        "  doc = nlp(example[0])\n",
        "  print(\"Entities\", [(ent.text, ent.label_) for ent in doc.ents])"
      ],
      "execution_count": 40,
      "outputs": [
        {
          "output_type": "stream",
          "text": [
            "\"Almost no instrument produces a pure tone.  The flute is about the closest.  Generally, an instrument produces a load of notes that make up the harmonic series.  These are notes whose frequencies are a whole number multiple of times the base (or fundamental) frequency.  So, when you hear a piano playing 440Hz concert A, you're also hearing a little bit of the A an octave higher at 880Hz, and the E above that at 1320Hz, and the A at 1760Hz, etc.\\n\\nThe exact mix of these notes is what determines tone or timbre.\\n\\nYou can see this for yourself.  Download a free spectrum analyser app and sing in to it.  If you whistle, you'll see a sharp peak, pretty close to a pure tone.  Now sing a few different vowels and you'll see a bunch of spikes.  As you keep the note the same but change the vowels, you'll see the lowest not stays in the same place, but the higher tones change in position and amount.\",\n",
            "Entities [('flute', 'INSTRUMENT'), ('sharp', 'QUALITY')]\n",
            "\"What does \\\"good guitar tone\\\" mean?\": [\n",
            "Entities []\n",
            "\"For string instruments, that would help with efficient with certain passages and convenience for different chord voicings. \\n\\nSaxophones, and some other wind instruments, do a thing called \\\"timbral trills\\\" (usually in jazz) where we repeat the same note with either an alternate fingering or different embouchure to alter the timbre of the note. For guitar I suppose playing the same note on different strings could emulate this effect, although I would think that the difference in timbre wouldn't be as drastic.\",\n",
            "Entities [('guitar', 'INSTRUMENT')]\n",
            "\"Really?  I liked the Timbre Wolf when I played with it.\\n\\nNot $300 liked, but I'd probably buy one for a cheap price.  Maybe I should have spent more time playing with it because I only really used it for 10 minutes before switching to far superior gear.\\n\\nAlso I should really check out my local GC now that they remodeled... last time the only synth they had available to use was an ultranova so I imagined all GC's were the same shitty stock.\",\n",
            "Entities [('Timbre Wolf', 'INSTRUMENT'), ('synth', 'INSTRUMENT')]\n",
            "\"There are many things you can do, but there is no formula to perfect music. It is all about knowing what you want to add to make your song better and when. Also, as a fellow virtual riot fan, depending on what style of his music you like you just need to know what it consists of. For example, his melodic dupstep is made of chord stacks and glitchy fills and percussive breaks, his riddim consists of basses, sub, drums and FX. Also keep in mind that sometimes less is more, your music might get too cluttered and messy if you add too much so practice and listen to other music to get a feel for the good measure.\",\n",
            "Entities [('basses', 'INSTRUMENT'), ('sub', 'INSTRUMENT'), ('drums', 'INSTRUMENT')]\n"
          ],
          "name": "stdout"
        }
      ]
    },
    {
      "cell_type": "markdown",
      "metadata": {
        "id": "ToECUVCQCy03"
      },
      "source": [
        "## Display test data and its original tags"
      ]
    },
    {
      "cell_type": "code",
      "metadata": {
        "id": "FAHYimYuNYJl",
        "colab": {
          "base_uri": "https://localhost:8080/"
        },
        "outputId": "424a7c68-aec2-4367-92ed-a1d404be69c2"
      },
      "source": [
        "for text, annotations in TEST_DATA:\n",
        "  print(text)\n",
        "  print(annotations)"
      ],
      "execution_count": 41,
      "outputs": [
        {
          "output_type": "stream",
          "text": [
            "\"Almost no instrument produces a pure tone.  The flute is about the closest.  Generally, an instrument produces a load of notes that make up the harmonic series.  These are notes whose frequencies are a whole number multiple of times the base (or fundamental) frequency.  So, when you hear a piano playing 440Hz concert A, you're also hearing a little bit of the A an octave higher at 880Hz, and the E above that at 1320Hz, and the A at 1760Hz, etc.\\n\\nThe exact mix of these notes is what determines tone or timbre.\\n\\nYou can see this for yourself.  Download a free spectrum analyser app and sing in to it.  If you whistle, you'll see a sharp peak, pretty close to a pure tone.  Now sing a few different vowels and you'll see a bunch of spikes.  As you keep the note the same but change the vowels, you'll see the lowest not stays in the same place, but the higher tones change in position and amount.\",\n",
            "{'entities': [(33, 42, 'QUALITY'), (49, 55, 'INSTRUMENT'), (292, 298, 'INSTRUMENT'), (669, 678, 'QUALITY')]}\n",
            "\"What does \\\"good guitar tone\\\" mean?\": [\n",
            "{'entities': [(18, 25, 'INSTRUMENT')]}\n",
            "\"For string instruments, that would help with efficient with certain passages and convenience for different chord voicings. \\n\\nSaxophones, and some other wind instruments, do a thing called \\\"timbral trills\\\" (usually in jazz) where we repeat the same note with either an alternate fingering or different embouchure to alter the timbre of the note. For guitar I suppose playing the same note on different strings could emulate this effect, although I would think that the difference in timbre wouldn't be as drastic.\",\n",
            "{'entities': [(128, 138, 'INSTRUMENT'), (354, 360, 'INSTRUMENT'), (155, 171, 'INSTRUMENT')]}\n",
            "\"Really?  I liked the Timbre Wolf when I played with it.\\n\\nNot $300 liked, but I'd probably buy one for a cheap price.  Maybe I should have spent more time playing with it because I only really used it for 10 minutes before switching to far superior gear.\\n\\nAlso I should really check out my local GC now that they remodeled... last time the only synth they had available to use was an ultranova so I imagined all GC's were the same shitty stock.\",\n",
            "{'entities': [(22, 33, 'INSTRUMENT'), (349, 355, 'INSTRUMENT')]}\n",
            "\"There are many things you can do, but there is no formula to perfect music. It is all about knowing what you want to add to make your song better and when. Also, as a fellow virtual riot fan, depending on what style of his music you like you just need to know what it consists of. For example, his melodic dupstep is made of chord stacks and glitchy fills and percussive breaks, his riddim consists of basses, sub, drums and FX. Also keep in mind that sometimes less is more, your music might get too cluttered and messy if you add too much so practice and listen to other music to get a feel for the good measure.\",\n",
            "{'entities': [(403, 409, 'INSTRUMENT'), (416, 421, 'INSTRUMENT')]}\n"
          ],
          "name": "stdout"
        }
      ]
    },
    {
      "cell_type": "markdown",
      "metadata": {
        "id": "HTpiHUUqCtS0"
      },
      "source": [
        "## Test on custom unseen data"
      ]
    },
    {
      "cell_type": "code",
      "metadata": {
        "colab": {
          "base_uri": "https://localhost:8080/"
        },
        "id": "YRfGX_40BWUL",
        "outputId": "3d03ac99-7a4c-4a74-fff1-a37ef4b6769e"
      },
      "source": [
        "doc = nlp(\"Give me a bright guitar\")\n",
        "print(\"Entities\", [(ent.text, ent.label_) for ent in doc.ents])\n",
        "\n",
        "doc = nlp(\"Give me a sharp cello\")\n",
        "print(\"Entities\", [(ent.text, ent.label_) for ent in doc.ents])\n"
      ],
      "execution_count": 42,
      "outputs": [
        {
          "output_type": "stream",
          "text": [
            "Entities [('bright guitar', 'INSTRUMENT')]\n",
            "Entities [('sharp', 'QUALITY')]\n"
          ],
          "name": "stdout"
        }
      ]
    }
  ]
}